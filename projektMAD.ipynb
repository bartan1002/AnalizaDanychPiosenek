{
 "cells": [
  {
   "cell_type": "markdown",
   "id": "6b1c4744b7674aea",
   "metadata": {},
   "source": [
    "# Projekt Analizy Danych: Klasyfikacja Popularności Piosenek\n",
    "\n",
    "**Autorzy:**\n",
    "\n",
    "- Bartosz Tański\n",
    "- Adrian Wierzchowski\n",
    "\n",
    "\n",
    "## Streszczenie\n",
    "\n",
    "Celem projektu jest klasyfikacja popularności piosenek na podstawie ich cech muzycznych. Wykorzystując zbiór danych zawierający informacje o 18835 piosenkach, przeprowadzono analizę wstępną, transformacje danych oraz zbudowano modele klasyfikacyjne przy użyciu trzech różnych metod: lasów losowych, maszyn wektorów nośnych (SVM) oraz regresji logistycznej. Wyniki modeli połączono w hybrydowy model decyzyjny. Walidację przeprowadzono przy użyciu krzyżowej walidacji, a wyniki oceniono za pomocą miary dokładności (Accuracy). \n",
    "\n",
    "**Słowa kluczowe:** Klasyfikacja, Popularność piosenek, Analiza danych, Machine Learning, Muzyka\n",
    "\n",
    "## Wprowadzenie\n",
    "\n",
    "Wraz z rozwojem platform streamingowych, analiza danych muzycznych stała się kluczowa dla zrozumienia preferencji słuchaczy. Niniejszy projekt ma na celu stworzenie modelu klasyfikującego popularność piosenek na podstawie różnych cech muzycznych, takich jak taneczność, energia czy głośność.\n",
    "\n",
    "### Przedmiot badania\n",
    "\n",
    "**Cel:** Celem projektu jest stworzenie modelu klasyfikacyjnego, który pozwoli na przewidywanie popularności piosenek na podstawie ich cech muzycznych.\n",
    "\n",
    "**Zakres badania:** Zbiór danych zawiera informacje o 18835 piosenkach, obejmujące zarówno cechy muzyczne, jak i popularność piosenek mierzona w skali od 0 do 100.\n",
    "\n",
    "### Przegląd literatury\n",
    "\n",
    "**Tzanetakis, G., & Cook, P. (2002). Musical genre classification of audio signals. IEEE Transactions on Speech and Audio Processing, 10(5), 293-302.**  \n",
    "W powyższej bibliografii zawarte są klasyczne prace dotyczące metod użytych w projekcie (Random Forests, Support Vector Machines), a także przykłady zastosowań tych metod w dziedzinie analizy danych muzycznych i klasyfikacji. Tzanetakis i Cook (2002) opisali w swojej pracy metodę klasyfikacji gatunków muzycznych na podstawie sygnałów dźwiękowych. Ich badania stanowiły fundament dla rozwoju dziedziny analizy danych muzycznych i klasyfikacji. W projekcie wykorzystaliśmy pewne techniki i podejścia z ich pracy, adaptując je do naszego problemu klasyfikacji popularności piosenek na podstawie cech muzycznych.\n",
    "\n",
    "## Wstępna analiza danych\n",
    "\n",
    "W ramach wstępnej analizy danych dokonaliśmy dogłębnego przejrzenia dostępnych zmiennych, obejmujących zarówno cechy muzyczne, jak i popularność piosenek. Zmiennymi, którymi się zajęliśmy, były między innymi czas trwania piosenek, ich akustyczność, taneczność czy energia. Przeprowadziliśmy analizę statystyk opisowych, wizualizacje danych oraz identyfikację i obsługę obserwacji odstających.\n",
    "### Przedstawienie dostępnych zmiennych:\n",
    "\n",
    "| Nazwa zmiennej         | Opis                          |\n",
    "|------------------------|-------------------------------|\n",
    "| **song_name**          | Nazwa piosenki                |\n",
    "| **song_popularity**    | Popularność piosenki          |\n",
    "| **song_duration_ms**   | Długość piosenki w milisekundach |\n",
    "| **acousticness**       | Akustyczność                  |\n",
    "| **danceability**       | Tanieczność                   |\n",
    "| **energy**             | Energia                       |\n",
    "| **instrumentalness**   | Instrumentalność              |\n",
    "| **key**                | Tonacja                       |\n",
    "| **liveness**           | Żywość                        |\n",
    "| **loudness**           | Głośność                      |\n",
    "| **audio_mode**         | Tryb audio (0 = minor, 1 = major) |\n",
    "| **speechiness**        | Mówność                       |\n",
    "| **tempo**              | Tempo                         |\n",
    "| **time_signature**     | Metrum                        |\n",
    "| **audio_valence**      | Wartość emocjonalna           |\n"
   ]
  },
  {
   "cell_type": "markdown",
   "id": "4ca639a9f49b5297",
   "metadata": {},
   "source": [
    "## Statystyki opisowe\n",
    "\n",
    "| Zmienna          | Liczba obserwacji | Średnia   | Odchylenie standardowe | Minimum  | 25%       | Mediana   | 75%       | Maksimum   |\n",
    "|------------------|-------------------|-----------|------------------------|----------|-----------|-----------|-----------|------------|\n",
    "| song_popularity  | 18835             | 52.99     | 21.91                  | 0.00     | 40.00     | 56.00     | 69.00     | 100.00     |\n",
    "| song_duration_ms | 18835             | 218211.59 | 59887.54               | 12000.00 | 184339.50 | 211306.00 | 242844.00 | 1799346.00 |\n",
    "| acousticness     | 18835             | 0.26      | 0.29                   | 0.00     | 0.02      | 0.13      | 0.42      | 0.996      |\n",
    "| danceability     | 18835             | 0.63      | 0.16                   | 0.00     | 0.53      | 0.65      | 0.75      | 0.99       |\n",
    "| energy           | 18835             | 0.64      | 0.21                   | 0.00     | 0.51      | 0.67      | 0.82      | 1.00       |\n",
    "| instrumentalness | 18835             | 0.08      | 0.22                   | 0.00     | 0.00      | 0.00      | 0.00      | 0.99       |\n",
    "| key              | 18835             | 5.29      | 3.61                   | 0.00     | 2.00      | 5.00      | 8.00      | 11.00      |\n",
    "| liveness         | 18835             | 0.18      | 0.14                   | 0.01     | 0.09      | 0.12      | 0.22      | 0.99       |\n",
    "| loudness         | 18835             | -7.45     | 3.83                   | -38.77   | -9.04     | -6.55     | -4.91     | 1.59       |\n",
    "| audio_mode       | 18835             | 0.63      | 0.48                   | 0.00     | 0.00      | 1.00      | 1.00      | 1.00       |\n",
    "| speechiness      | 18835             | 0.10      | 0.10                   | 0.00     | 0.04      | 0.06      | 0.12      | 0.94       |\n",
    "| tempo            | 18835             | 121.07    | 28.71                  | 0.00     | 98.37     | 120.01    | 139.93    | 242.32     |\n",
    "| time_signature   | 18835             | 3.96      | 0.30                   | 0.00     | 4.00      | 4.00      | 4.00      | 5.00       |\n",
    "| audio_valence    | 18835             | 0.53      | 0.24                   | 0.00     | 0.34      | 0.53      | 0.73      | 0.98       |\n"
   ]
  },
  {
   "cell_type": "markdown",
   "id": "2f8cccda0e6095ac",
   "metadata": {},
   "source": [
    "## Wizualizacje\n"
   ]
  },
  {
   "cell_type": "code",
   "id": "2e9c68c80d866d96",
   "metadata": {
    "ExecuteTime": {
     "end_time": "2024-06-11T08:10:01.875942Z",
     "start_time": "2024-06-11T08:10:01.872222Z"
    }
   },
   "source": [
    "import pandas as pd\n",
    "import numpy as np\n",
    "from sklearn.model_selection import train_test_split\n",
    "from sklearn.preprocessing import StandardScaler\n",
    "from sklearn.neighbors import KNeighborsClassifier\n",
    "from sklearn.svm import SVC\n",
    "from sklearn.ensemble import RandomForestClassifier\n",
    "from sklearn.metrics import accuracy_score, f1_score, confusion_matrix\n",
    "import matplotlib.pyplot as plt\n",
    "from scipy import stats"
   ],
   "outputs": [],
   "execution_count": 11
  },
  {
   "metadata": {},
   "cell_type": "markdown",
   "source": "### Boxplot zmiennych numerycznych",
   "id": "1f71682b807ee44c"
  },
  {
   "cell_type": "code",
   "id": "4c6df5b052d67e8d",
   "metadata": {
    "ExecuteTime": {
     "end_time": "2024-06-11T08:38:56.973972Z",
     "start_time": "2024-06-11T08:38:56.495037Z"
    }
   },
   "source": [
    "import pandas as pd\n",
    "import numpy as np\n",
    "import matplotlib.pyplot as plt\n",
    "from sklearn.preprocessing import LabelEncoder\n",
    "\n",
    "# Załadowanie danych z pliku CSV\n",
    "data = pd.read_csv(\"song_data.csv\")\n",
    "\n",
    "def categorize_popularity(popularity):\n",
    "    if popularity < 50:\n",
    "        return 'niska'\n",
    "    else:\n",
    "        return 'wysoka'\n",
    "\n",
    "data['song_popularity'] = data['song_popularity'].apply(categorize_popularity)  # zakładając, że masz kolumnę 'song_popularity'\n",
    "data.rename(columns={'song_popularity': 'song_popularity_kat'}, inplace=True)\n",
    "\n",
    "# Konwersja zmiennych jakościowych na numeryczne przy użyciu LabelEncoder\n",
    "label_encoder = LabelEncoder()\n",
    "data['song_popularity_kat_num'] = label_encoder.fit_transform(data['song_popularity_kat'])\n",
    "\n",
    "# Tworzenie boxplotu dla zmiennych numerycznych oraz zakodowanej zmiennej jakościowej\n",
    "plt.figure(figsize=(10, 6))\n",
    "# Selekcja kolumn numerycznych oraz dodanie do nich zakodowanej zmiennej jakościowej\n",
    "numeric_columns = data.select_dtypes(include=[np.number]).columns.tolist()\n",
    "data[['song_popularity_kat_num'] + numeric_columns].boxplot()\n",
    "plt.title(\"Boxplot zmiennych numerycznych i zakodowanej zmiennej jakościowej\")\n",
    "plt.show()\n"
   ],
   "outputs": [
    {
     "data": {
      "text/plain": [
       "<Figure size 1000x600 with 1 Axes>"
      ],
      "image/png": "[encoded data removed]"
     },
     "metadata": {},
     "output_type": "display_data"
    }
   ],
   "execution_count": 43
  },
  {
   "metadata": {},
   "cell_type": "markdown",
   "source": [
    "W tym fragmencie kodu wykonaliśmy kilka kroków:  \n",
    "\n",
    "Załadowanie danych z pliku CSV o nazwie \"song_data.csv\" do zmiennej data za pomocą funkcji pd.read_csv(). Plik ten zawiera dane dotyczące cech muzycznych i popularności piosenek.  \n",
    "\n",
    "Następnie, przy użyciu metody select_dtypes(include=[np.number]), wybraliśmy tylko te kolumny z danych, które zawierają liczby. Ograniczenie do kolumn numerycznych umożliwia nam analizę   rozkładów tych danych.  \n",
    "\n",
    "Wykonaliśmy boxplot dla wybranych kolumn numerycznych za pomocą metody boxplot().  \n",
    "\n",
    "Warto zauważyć, że użyliśmy plt.title() do nadania tytułu wykresowi, co pozwala czytelnikowi łatwiej zrozumieć, co przedstawia wykres.  \n",
    "\n",
    "Na koniec użyliśmy plt.show() do wyświetlenia wykresu.   \n",
    "\n",
    "Boxplot jest wykorzystywany do graficznego przedstawienia rozkładu danych numerycznych, co pozwala na zidentyfikowanie wartości odstających oraz zrozumienie rozkładu danych w sposób graficzny.\n",
    "\n",
    "### Zmieniliśmy kolumnę song_popularity na nową kolumnę song_popularity_kat, z podziałem na kategorie, która będzie zawierała kategorie jakościowe zamiast wartości liczbowych.  \n"
   ],
   "id": "dddd384c3471f7f6"
  },
  {
   "metadata": {},
   "cell_type": "markdown",
   "source": "### Macierz korelacji zmiennych numerycznych",
   "id": "db9d1ff1b9d350a7"
  },
  {
   "metadata": {},
   "cell_type": "code",
   "outputs": [],
   "execution_count": null,
   "source": "",
   "id": "d5f0eac35fbcc3e6"
  },
  {
   "cell_type": "code",
   "id": "391bd03bac77cf90",
   "metadata": {
    "ExecuteTime": {
     "end_time": "2024-06-11T08:39:00.191695Z",
     "start_time": "2024-06-11T08:38:59.855869Z"
    }
   },
   "source": [
    "plt.figure(figsize=(10, 8))\n",
    "corr_matrix = data.select_dtypes(include=[np.number]).corr()\n",
    "plt.imshow(corr_matrix, cmap='coolwarm', interpolation='nearest')\n",
    "plt.colorbar()\n",
    "plt.title(\"Macierz korelacji zmiennych numerycznych\")\n",
    "plt.xticks(range(len(corr_matrix)), corr_matrix.columns, rotation=45)\n",
    "plt.yticks(range(len(corr_matrix)), corr_matrix.columns)\n",
    "plt.show()\n",
    "\n"
   ],
   "outputs": [
    {
     "data": {
      "text/plain": [
       "<Figure size 1000x800 with 2 Axes>"
      ],
      "image/png": "[encoded data removed]"
     },
     "metadata": {},
     "output_type": "display_data"
    }
   ],
   "execution_count": 44
  },
  {
   "metadata": {},
   "cell_type": "markdown",
   "source": [
    " \n",
    "W powyższym fragmencie kodu wykonaliśmy następujące czynności:  \n",
    "\n",
    "Stworzyliśmy nową figurę o rozmiarach 10x8 przy użyciu funkcji plt.figure(figsize=(10, 8)).  \n",
    "\n",
    "Wygenerowaliśmy macierz korelacji dla zmiennych numerycznych w danych za pomocą metody corr() na DataFrame data, który zawiera nasze dane. Macierz korelacji przedstawia związki pomiędzy różnymi   zmiennymi numerycznymi w postaci wartości korelacji, które mogą być dodatnie, ujemne lub zerowe.  \n",
    "\n",
    "Następnie użyliśmy funkcji plt.imshow() do wyświetlenia macierzy korelacji w formie mapy cieplnej. Ustawiliśmy parametr cmap='coolwarm', aby użyć palety kolorów, która wyraźnie pokazuje zarówno   pozytywne, jak i negatywne korelacje.  \n",
    "\n",
    "Dodaliśmy pasek kolorów, który służy do interpretacji wartości korelacji, za pomocą plt.colorbar().  \n",
    "\n",
    "Nadaliśmy wykresowi tytuł \"Macierz korelacji zmiennych numerycznych\" za pomocą plt.title().  \n",
    "\n",
    "Zmieniliśmy oznaczenia osi X i Y na nazwy kolumn naszej macierzy korelacji za pomocą plt.xticks() i plt.yticks(), gdzie przekazaliśmy zakres wartości i etykiety kolumn.  \n",
    "\n",
    "Na koniec wyświetliliśmy wykres za pomocą plt.show().  \n",
    "\n",
    "Macierz korelacji jest przydatna do zrozumienia, jak poszczególne zmienne numeryczne są powiązane między sobą, co może pomóc w identyfikacji zależności i trendów w danych. Na przykład wysoka   korelacja między dwiema zmiennymi może wskazywać na ich współzależność lub współwystępowanie w danych.  "
   ],
   "id": "692128a7a4899756"
  },
  {
   "metadata": {},
   "cell_type": "markdown",
   "source": "### Histogram popularności piosenek",
   "id": "759dc50ac38340c4"
  },
  {
   "metadata": {
    "ExecuteTime": {
     "end_time": "2024-06-11T08:39:02.882817Z",
     "start_time": "2024-06-11T08:39:02.730654Z"
    }
   },
   "cell_type": "code",
   "source": [
    "plt.figure(figsize=(10, 6))\n",
    "plt.hist(data['song_popularity_kat'], bins=30, alpha=0.7, color='skyblue', edgecolor='black')\n",
    "plt.title(\"Histogram popularności piosenek\")\n",
    "plt.xlabel(\"Popularność\")\n",
    "plt.ylabel(\"Liczba piosenek\")\n",
    "plt.grid(True)\n",
    "plt.show()\n"
   ],
   "id": "66be4a2f90127340",
   "outputs": [
    {
     "data": {
      "text/plain": [
       "<Figure size 1000x600 with 1 Axes>"
      ],
      "image/png": "[encoded data removed]"
     },
     "metadata": {},
     "output_type": "display_data"
    }
   ],
   "execution_count": 45
  },
  {
   "metadata": {},
   "cell_type": "markdown",
   "source": [
    "\n",
    "W powyższym fragmencie kodu wykonaliśmy następujące czynności:  \n",
    "\n",
    "Stworzyliśmy nową figurę o rozmiarach 10x6 przy użyciu funkcji plt.figure(figsize=(10, 6)).  \n",
    "\n",
    "Wygenerowaliśmy histogram popularności piosenek na podstawie danych znajdujących się w kolumnie 'song_popularity_kat' za pomocą funkcji plt.hist(). Ustawiliśmy parametr bins=30, aby podzielić zakres   wartości popularności na 30 przedziałów.  \n",
    "\n",
    "Ustawiliśmy przezroczystość na 0.7 (alpha=0.7) i kolor wypełnienia na niebieski (color='skyblue'). Dodatkowo określiliśmy kolor krawędzi na czarny (edgecolor='black'), aby wykres był   czytelniejszy.  \n",
    " \n",
    "Dodaliśmy tytuł wykresu (\"Histogram popularności piosenek\") za pomocą funkcji plt.title().  \n",
    "\n",
    "Oznaczyliśmy osie X i Y odpowiednio jako \"Popularność\" (plt.xlabel(\"Popularność\")) oraz \"Liczba piosenek\" (plt.ylabel(\"Liczba piosenek\")).  \n",
    "\n",
    "Włączyliśmy siatkę na wykresie za pomocą plt.grid(True), aby ułatwić odczytanie wartości.  \n",
    " \n",
    "Na koniec wyświetliliśmy wykres za pomocą plt.show().  \n",
    "\n",
    "Histogram jest przydatnym narzędziem do wizualizacji rozkładu danych, w tym przypadku popularności piosenek. Pokazuje on, ile piosenek mieści się w określonych przedziałach popularności, co może   pomóc w zrozumieniu rozkładu popularności w całym zbiorze danych.  "
   ],
   "id": "780a30e3f0f2dab7"
  },
  {
   "cell_type": "markdown",
   "id": "31eb610f7fce984f",
   "metadata": {},
   "source": [
    "### Braki danych\n",
    "\n",
    "Dane są kompletne"
   ]
  },
  {
   "cell_type": "code",
   "id": "47629c7b20707cd4",
   "metadata": {
    "ExecuteTime": {
     "end_time": "2024-06-11T08:39:07.280489Z",
     "start_time": "2024-06-11T08:39:07.271781Z"
    }
   },
   "source": [
    "print(data.isnull().sum())"
   ],
   "outputs": [
    {
     "name": "stdout",
     "output_type": "stream",
     "text": [
      "song_name                  0\n",
      "song_popularity_kat        0\n",
      "song_duration_ms           0\n",
      "acousticness               0\n",
      "danceability               0\n",
      "energy                     0\n",
      "instrumentalness           0\n",
      "key                        0\n",
      "liveness                   0\n",
      "loudness                   0\n",
      "audio_mode                 0\n",
      "speechiness                0\n",
      "tempo                      0\n",
      "time_signature             0\n",
      "audio_valence              0\n",
      "song_popularity_kat_num    0\n",
      "dtype: int64\n"
     ]
    }
   ],
   "execution_count": 46
  },
  {
   "metadata": {},
   "cell_type": "markdown",
   "source": "### Identyfikacja i obsługa obserwacji odstających",
   "id": "24e97140783ec91a"
  },
  {
   "cell_type": "code",
   "id": "b3bcdfbd7f073b86",
   "metadata": {
    "ExecuteTime": {
     "end_time": "2024-06-11T08:39:09.304608Z",
     "start_time": "2024-06-11T08:39:09.288377Z"
    }
   },
   "source": [
    "from scipy import stats\n",
    "import numpy as np\n",
    "\n",
    "# Obliczanie z-score dla każdej kolumny\n",
    "z_scores = stats.zscore(data.select_dtypes(include=[np.number]))\n",
    "abs_z_scores = np.abs(z_scores)\n",
    "filtered_entries = (abs_z_scores < 3).all(axis=1)\n",
    "data_cleaned = data[filtered_entries]\n",
    "\n",
    "# Sprawdzenie liczby obserwacji po usunięciu odstających\n",
    "print(\"Liczba obserwacji po usunięciu odstających:\", data_cleaned.shape[0])\n",
    "\n",
    "# Jeżeli liczba obserwacji jest zbyt mała, nie usuwamy obserwacji odstających\n",
    "if data_cleaned.shape[0] < 800:\n",
    "    data_cleaned = data\n",
    "print(data_cleaned.shape)"
   ],
   "outputs": [
    {
     "name": "stdout",
     "output_type": "stream",
     "text": [
      "Liczba obserwacji po usunięciu odstających: 15868\n",
      "(15868, 16)\n"
     ]
    }
   ],
   "execution_count": 47
  },
  {
   "metadata": {},
   "cell_type": "markdown",
   "source": [
    "W powyższym fragmencie kodu wykonaliśmy następujące czynności:  \n",
    " \n",
    "Zaimportowaliśmy moduły stats i np z pakietu scipy oraz numpy odpowiednio.  \n",
    " \n",
    "Obliczyliśmy wartości Z-score dla każdej kolumny zawierającej dane liczbowe (select_dtypes(include=[np.number])) w naszym zbiorze danych za pomocą funkcji stats.zscore(). Wartość Z-score mierzy,   o ile odchylenie standardowe obserwacja różni się od średniej.  \n",
    "\n",
    "Następnie obliczyliśmy wartości bezwzględne Z-score (abs_z_scores) i określiliśmy, które obserwacje można uznać za odstające, tj. spoza zakresu 3 odchyleń standardowych od średniej (abs_z_scores   < 3). Ta operacja została wykonana dla każdej obserwacji wzdłuż osi kolumn za pomocą metody .all(axis=1).  \n",
    "\n",
    "Stworzyliśmy nowy DataFrame data_cleaned, który zawierał tylko te wiersze, które nie były uznane za odstające.  \n",
    " \n",
    "Wypisaliśmy liczbę obserwacji po usunięciu odstających za pomocą funkcji print(\"Liczba obserwacji po usunięciu odstających:\", data_cleaned.shape[0]).  \n",
    "\n",
    "W warunku sprawdziliśmy, czy liczba obserwacji w data_cleaned jest mniejsza niż 800. Jeśli tak, nie usuwamy obserwacji odstających, a cały DataFrame pozostaje niezmieniony.  \n",
    "\n",
    "Na koniec wypisaliśmy kształt (liczbę wierszy i kolumn) DataFrame data_cleaned za pomocą print(data_cleaned.shape).  \n",
    "\n",
    "Procedura usuwania obserwacji odstających ma na celu zwiększenie czystości danych poprzez usunięcie punktów danych, które mogą wpłynąć negatywnie na analizę lub modele predykcyjne. W przypadku   gdy liczba obserwacji po usunięciu odstających jest zbyt mała (mniejsza niż 800 w tym przypadku), nie usuwamy tych obserwacji, aby zachować reprezentatywność danych.  "
   ],
   "id": "a95009609fc4a2cc"
  },
  {
   "metadata": {},
   "cell_type": "markdown",
   "source": [
    "## Transformacje danych\n",
    "Po dokładnym przyjrzeniu się danym, przeprowadziliśmy transformacje, w tym skalowanie danych za pomocą StandardScaler. Skalowanie jest istotnym krokiem w przygotowaniu danych do modelowania,   ponieważ pozwala na porównywanie cech o różnych jednostkach miary i zapewnia lepsze działanie algorytmów.  \n",
    "\n",
    "\n",
    "### Skalowanie danych\n"
   ],
   "id": "e6f48be0a785287"
  },
  {
   "cell_type": "code",
   "id": "16e749786771203e",
   "metadata": {
    "ExecuteTime": {
     "end_time": "2024-06-11T08:39:11.661615Z",
     "start_time": "2024-06-11T08:39:11.643525Z"
    }
   },
   "source": [
    "from sklearn.preprocessing import StandardScaler\n",
    "\n",
    "scaler = StandardScaler()\n",
    "numeric_data = data_cleaned.select_dtypes(include=[np.number])\n",
    "\n",
    "# Sprawdzenie kształtu danych przed skalowaniem\n",
    "print(numeric_data.shape)\n",
    "print(numeric_data.head())\n",
    "\n",
    "scaled_data = scaler.fit_transform(numeric_data)\n",
    "\n",
    "# Sprawdzenie kształtu przeskalowanych danych\n",
    "print(scaled_data.shape)\n"
   ],
   "outputs": [
    {
     "name": "stdout",
     "output_type": "stream",
     "text": [
      "(15868, 14)\n",
      "   song_duration_ms  acousticness  danceability  energy  instrumentalness  \\\n",
      "0            262333      0.005520         0.496   0.682          0.000029   \n",
      "1            216933      0.010300         0.542   0.853          0.000000   \n",
      "2            231733      0.008170         0.737   0.463          0.447000   \n",
      "3            216933      0.026400         0.451   0.970          0.003550   \n",
      "4            223826      0.000954         0.447   0.766          0.000000   \n",
      "\n",
      "   key  liveness  loudness  audio_mode  speechiness    tempo  time_signature  \\\n",
      "0    8    0.0589    -4.095           1       0.0294  167.060               4   \n",
      "1    3    0.1080    -6.407           0       0.0498  105.256               4   \n",
      "2    0    0.2550    -7.828           1       0.0792  123.881               4   \n",
      "3    0    0.1020    -4.938           1       0.1070  122.444               4   \n",
      "4   10    0.1130    -5.065           1       0.0313  172.011               4   \n",
      "\n",
      "   audio_valence  song_popularity_kat_num  \n",
      "0          0.474                        1  \n",
      "1          0.370                        1  \n",
      "2          0.324                        1  \n",
      "3          0.198                        1  \n",
      "4          0.574                        1  \n",
      "(15868, 14)\n"
     ]
    }
   ],
   "execution_count": 48
  },
  {
   "metadata": {},
   "cell_type": "markdown",
   "source": [
    "W tym fragmencie kodu wykonaliśmy skalowanie danych za pomocą StandardScaler z modułu sklearn.preprocessing.  \n",
    "\n",
    "Zaimportowaliśmy klasę StandardScaler z modułu sklearn.preprocessing.  \n",
    "\n",
    "Stworzyliśmy obiekt scaler klasy StandardScaler().  \n",
    "\n",
    "Wybraliśmy tylko kolumny zawierające dane liczbowe z DataFrame data_cleaned za pomocą metody select_dtypes(include=[np.number]). Wynik został przypisany do zmiennej numeric_data.  \n",
    "\n",
    "Wypisaliśmy kształt (liczbę wierszy i kolumn) danych przed skalowaniem za pomocą print(numeric_data.shape) i wyświetliliśmy kilka pierwszych wierszy za pomocą print(numeric_data.head()).  \n",
    "\n",
    "Następnie przeskalowaliśmy dane za pomocą scaler.fit_transform(numeric_data), co spowodowało dopasowanie skaleru do danych i przekształcenie ich na przeskalowane wartości. Przeskalowane dane   zostały przypisane do zmiennej scaled_data.  \n",
    " \n",
    "Ponownie wypisaliśmy kształt przeskalowanych danych za pomocą print(scaled_data.shape).  "
   ],
   "id": "a1ff156ea10ac2f3"
  },
  {
   "metadata": {},
   "cell_type": "markdown",
   "source": [
    "## Przygotowanie danych do modelowania\n",
    "### Przypisanie zmiennych X i y"
   ],
   "id": "c941b8cca6618592"
  },
  {
   "cell_type": "code",
   "id": "c79b026f0ca4c73f",
   "metadata": {
    "ExecuteTime": {
     "end_time": "2024-06-11T08:39:14.283985Z",
     "start_time": "2024-06-11T08:39:14.274846Z"
    }
   },
   "source": [
    "import pandas as pd\n",
    "from sklearn.model_selection import train_test_split\n",
    "\n",
    "\n",
    "# Sprawdzenie dostępnych kolumn\n",
    "print(data_cleaned.columns)\n",
    "\n",
    "# Przypisanie X i y, zaktualizowane o rzeczywistą nazwę zmiennej docelowej\n",
    "X = scaled_data\n",
    "y = data_cleaned['song_popularity_kat']  # Tu używam wersji kategorycznej\n",
    "\n",
    "# Wypisanie wymiarów X i y, aby upewnić się, że mają odpowiednią formę\n",
    "print(X.shape)\n",
    "print(y.shape)\n",
    "\n",
    "# Podział na zbiór treningowy i testowy\n",
    "X_train, X_test, y_train, y_test = train_test_split(X, y, test_size=0.2, random_state=42)\n",
    "\n",
    "print(\"Rozmiar zbioru treningowego X:\", X_train.shape)\n",
    "print(\"Rozmiar zbioru treningowego y:\", y_train.shape)\n",
    "print(\"Rozmiar zbioru testowego X:\", X_test.shape)\n",
    "print(\"Rozmiar zbioru testowego y:\", y_test.shape)\n"
   ],
   "outputs": [
    {
     "name": "stdout",
     "output_type": "stream",
     "text": [
      "Index(['song_name', 'song_popularity_kat', 'song_duration_ms', 'acousticness',\n",
      "       'danceability', 'energy', 'instrumentalness', 'key', 'liveness',\n",
      "       'loudness', 'audio_mode', 'speechiness', 'tempo', 'time_signature',\n",
      "       'audio_valence', 'song_popularity_kat_num'],\n",
      "      dtype='object')\n",
      "(15868, 14)\n",
      "(15868,)\n",
      "Rozmiar zbioru treningowego X: (12694, 14)\n",
      "Rozmiar zbioru treningowego y: (12694,)\n",
      "Rozmiar zbioru testowego X: (3174, 14)\n",
      "Rozmiar zbioru testowego y: (3174,)\n"
     ]
    }
   ],
   "execution_count": 49
  },
  {
   "metadata": {},
   "cell_type": "markdown",
   "source": [
    "W tym fragmencie kodu przygotowano dane do modelowania poprzez przypisanie zmiennych X i y oraz podział na zbiór treningowy i testowy.  \n",
    "\n",
    "Najpierw wypisano nazwy wszystkich kolumn DataFrame'a data_cleaned za pomocą print(data_cleaned.columns). To pozwoliło sprawdzić, jakie zmienne są dostępne w danych.  \n",
    "\n",
    "Następnie zmiennym X i y przypisano przeskalowane dane (scaled_data) i zmienną docelową ('song_popularity'), odpowiednio. W przypadku zmiennej docelowej 'song_popularity' została użyta kolumna   zawierająca popularność piosenek.  \n",
    "\n",
    "Wypisano kształty zmiennych X i y za pomocą print(X.shape) i print(y.shape), aby upewnić się, że dane zostały przypisane poprawnie.  \n",
    "\n",
    "Na koniec dane zostały podzielone na zbiory treningowy i testowy za pomocą funkcji train_test_split z modułu sklearn.model_selection. Zbiór testowy stanowił 20% wszystkich danych, a ziarno   losowości zostało ustawione na 42, aby wyniki były powtarzalne. Zmienne X_train, X_test, y_train i y_test zawierają odpowiednio dane treningowe i testowe dla zmiennych objaśniających i   docelowej.  "
   ],
   "id": "9d214762713cd461"
  },
  {
   "cell_type": "markdown",
   "id": "e897b033b728501",
   "metadata": {},
   "source": [
    "# Budowa modeli klasyfikacyjnych\n",
    "W projekcie zaimplementowaliśmy trzy różne modele klasyfikacyjne: k-NN, SVM oraz Random Forest. Każdy z tych modeli ma swoje zalety i ograniczenia, dlatego zdecydowaliśmy się na zbudowanie   również modelu hybrydowego, który wykorzystuje kombinację wyników tych trzech modeli. Przedstawiliśmy kod i wyniki dla każdego z modeli, a także oceniliśmy ich skuteczność za pomocą miar takich   jak dokładność i F1 Score.  "
   ]
  },
  {
   "metadata": {},
   "cell_type": "markdown",
   "source": "### Model k-NN",
   "id": "db82bf490de88f97"
  },
  {
   "metadata": {
    "ExecuteTime": {
     "end_time": "2024-06-11T08:39:19.174097Z",
     "start_time": "2024-06-11T08:39:17.976411Z"
    }
   },
   "cell_type": "code",
   "source": [
    "from sklearn.neighbors import KNeighborsClassifier\n",
    "\n",
    "# Inicjalizacja klasyfikatora k-NN z 5 sąsiadami\n",
    "knn = KNeighborsClassifier(n_neighbors=5)\n",
    "\n",
    "# Trenowanie modelu na danych treningowych\n",
    "# y_train już zawiera dane z kolumny 'song_popularity_kat' z wcześniejszego przypisania\n",
    "knn.fit(X_train, y_train)\n",
    "\n",
    "# Przewidywanie etykiet na zbiorze testowym\n",
    "y_pred_knn = knn.predict(X_test)\n",
    "\n",
    "# Tutaj możesz dodać dodatkowy kod do oceny modelu, jeśli to konieczne\n",
    "# Przykład: obliczanie dokładności, wynik F1, macierz pomyłek, etc.\n",
    "from sklearn.metrics import accuracy_score, confusion_matrix, f1_score\n",
    "\n",
    "# Obliczanie dokładności\n",
    "accuracy = accuracy_score(y_test, y_pred_knn)\n",
    "print(f\"Dokładność (Accuracy): {accuracy}\")\n",
    "\n",
    "# Obliczanie wyniku F1\n",
    "f1 = f1_score(y_test, y_pred_knn, average='macro')  # użyj 'macro' lub 'weighted' w zależności od rozkładu klas\n",
    "print(f\"Wynik F1 (F1 Score): {f1}\")\n",
    "\n",
    "# Tworzenie macierzy pomyłek\n",
    "conf_matrix = confusion_matrix(y_test, y_pred_knn)\n",
    "print(\"Macierz pomyłek (Confusion Matrix):\")\n",
    "print(conf_matrix)"
   ],
   "id": "780e9ce3b0b7be53",
   "outputs": [
    {
     "name": "stdout",
     "output_type": "stream",
     "text": [
      "Dokładność (Accuracy): 0.9996849401386263\n",
      "Wynik F1 (F1 Score): 0.9996659378836017\n",
      "Macierz pomyłek (Confusion Matrix):\n",
      "[[1208    0]\n",
      " [   1 1965]]\n"
     ]
    }
   ],
   "execution_count": 50
  },
  {
   "metadata": {},
   "cell_type": "markdown",
   "source": [
    "#### Wyjaśnienie\n",
    "Definicja siatki parametrów: param_grid_knn zawiera wartości liczby sąsiadów (n_neighbors) oraz wag (weights), które będą testowane.  \n",
    "Inicjalizacja modelu k-NN: knn to podstawowy model k-NN.  \n",
    "Przeprowadzenie Grid Search: GridSearchCV przeprowadza wyszukiwanie optymalnych parametrów z walidacją krzyżową (domyślnie 5-krotną).  \n",
    "Najlepsze parametry i model: best_params_knn przechowuje najlepsze parametry, a best_knn to najlepszy model k-NN.  \n",
    "Predykcje i ocena modelu: Przewidywanie za pomocą najlepszego modelu, a następnie ocena dokładności (accuracy), miary F1 (f1_score) i macierzy pomyłek (confusion_matrix).  \n",
    "Ten proces optymalizacji pozwala znaleźć najlepsze parametry dla modelu k-NN, co może poprawić jego wydajność.  "
   ],
   "id": "e42b76b4680c5acd"
  },
  {
   "metadata": {},
   "cell_type": "markdown",
   "source": "### Model SVM",
   "id": "e085e0ffce8bfaf4"
  },
  {
   "cell_type": "code",
   "id": "dd82d0a2289836e9",
   "metadata": {
    "ExecuteTime": {
     "end_time": "2024-06-11T08:39:21.930483Z",
     "start_time": "2024-06-11T08:39:21.839132Z"
    }
   },
   "source": [
    "#Model SVM\n",
    "from sklearn.svm import SVC\n",
    "\n",
    "svm = SVC(kernel='linear', probability=True)\n",
    "svm.fit(X_train, y_train)\n",
    "y_pred_svm = svm.predict(X_test)"
   ],
   "outputs": [],
   "execution_count": 51
  },
  {
   "metadata": {},
   "cell_type": "markdown",
   "source": "### Optymalizacja modelu SVM\n",
   "id": "12f78d21342bd016"
  },
  {
   "metadata": {
    "ExecuteTime": {
     "end_time": "2024-06-11T08:47:59.551265Z",
     "start_time": "2024-06-11T08:47:04.129608Z"
    }
   },
   "cell_type": "code",
   "source": [
    "from sklearn.datasets import make_classification\n",
    "from sklearn.model_selection import train_test_split, GridSearchCV\n",
    "from sklearn.svm import SVC\n",
    "from sklearn.metrics import accuracy_score, f1_score, confusion_matrix\n",
    "from sklearn.preprocessing import LabelEncoder\n",
    "\n",
    "# Generowanie przykładowych danych\n",
    "X, y = make_classification(n_samples=1000, n_features=20, n_classes=2, random_state=42)\n",
    "\n",
    "# Kodowanie etykiet y, jeśli są tekstowe\n",
    "label_encoder = LabelEncoder()\n",
    "y_encoded = label_encoder.fit_transform(y)  # Zakładamy, że y jest już w formie 'niska', 'wysoka'\n",
    "\n",
    "# Podział danych na zbiór treningowy i testowy\n",
    "X_train, X_test, y_train, y_test = train_test_split(X, y_encoded, test_size=0.2, random_state=42)\n",
    "\n",
    "# Definicja siatki parametrów dla Grid Search\n",
    "param_grid_svm = {\n",
    "    'C': [0.1, 1, 10, 100],\n",
    "    'kernel': ['linear', 'rbf', 'poly'],\n",
    "    'gamma': ['scale', 'auto']  # Dodane dla niektórych kernelów\n",
    "}\n",
    "\n",
    "# Inicjalizacja modelu SVM\n",
    "svm = SVC(probability=True)\n",
    "\n",
    "# Przeprowadzenie Grid Search z walidacją krzyżową\n",
    "grid_search_svm = GridSearchCV(svm, param_grid_svm, cv=5, scoring='accuracy')\n",
    "grid_search_svm.fit(X_train, y_train)\n",
    "\n",
    "# Najlepsze parametry\n",
    "best_params_svm = grid_search_svm.best_params_\n",
    "print(\"Najlepsze parametry SVM:\", best_params_svm)\n",
    "\n",
    "# Najlepszy model\n",
    "best_svm = grid_search_svm.best_estimator_\n",
    "\n",
    "# Predykcje najlepszym modelem SVM\n",
    "y_pred_svm = best_svm.predict(X_test)\n",
    "\n",
    "# Ocena modelu\n",
    "accuracy_svm = accuracy_score(y_test, y_pred_svm)\n",
    "f1_svm = f1_score(y_test, y_pred_svm, average='macro')\n",
    "conf_matrix_svm = confusion_matrix(y_test, y_pred_svm)\n",
    "\n",
    "print(\"SVM Accuracy:\", accuracy_svm)\n",
    "print(\"SVM F1 Score:\", f1_svm)\n",
    "print(\"Confusion Matrix SVM:\\n\", conf_matrix_svm)\n"
   ],
   "id": "fa67b6a97095e78e",
   "outputs": [
    {
     "name": "stdout",
     "output_type": "stream",
     "text": [
      "Najlepsze parametry SVM: {'C': 0.1, 'gamma': 'scale', 'kernel': 'linear'}\n",
      "SVM Accuracy: 0.88\n",
      "SVM F1 Score: 0.87998799879988\n",
      "Confusion Matrix SVM:\n",
      " [[87  6]\n",
      " [18 89]]\n"
     ]
    }
   ],
   "execution_count": 59
  },
  {
   "metadata": {},
   "cell_type": "markdown",
   "source": [
    "### Wyjaśnienie\n",
    "Definicja siatki parametrów: param_grid_svm zawiera wartości dla parametrów C, kernel i gamma, które będą testowane.  \n",
    "\n",
    "C: parametr regularyzacji.  \n",
    "kernel: typ kernela (liniowy, radialna baza funkcji (RBF), wielomianowy).  \n",
    "gamma: współczynnik kernela (dotyczy niektórych typów kernela, np. RBF i wielomianowego).  \n",
    "\n",
    "\n",
    "Inicjalizacja modelu SVM: svm to podstawowy model SVM z ustawieniem probability=True, aby móc później uzyskać prawdopodobieństwa predykcji.  \n",
    "\n",
    "Przeprowadzenie Grid Search: GridSearchCV przeprowadza wyszukiwanie optymalnych parametrów z walidacją krzyżową (domyślnie 5-krotną).  \n",
    "\n",
    "Najlepsze parametry i model: best_params_svm przechowuje najlepsze parametry, a best_svm to najlepszy model SVM.  \n",
    "\n",
    "Predykcje i ocena modelu: Przewidywanie za pomocą najlepszego modelu, a następnie ocena dokładności (accuracy), miary F1 (f1_score) i macierzy pomyłek (confusion_matrix).  \n",
    "\n",
    "Ten proces optymalizacji pozwala znaleźć najlepsze parametry dla modelu SVM, co może poprawić jego wydajność.  \n",
    "\n",
    "\n",
    "\n",
    "\n",
    "\n",
    "\n"
   ],
   "id": "35f1980c4f8af0ad"
  },
  {
   "metadata": {},
   "cell_type": "markdown",
   "source": "### Model Random Forest",
   "id": "74e2b2f60057d1b8"
  },
  {
   "metadata": {
    "ExecuteTime": {
     "end_time": "2024-06-04T10:42:19.223585Z",
     "start_time": "2024-06-04T10:42:18.777337Z"
    }
   },
   "cell_type": "code",
   "source": [
    "#Model Random Forest\n",
    "from sklearn.ensemble import RandomForestClassifier\n",
    "\n",
    "rf = RandomForestClassifier(n_estimators=100, random_state=42)\n",
    "rf.fit(X_train, y_train)\n",
    "y_pred_rf = rf.predict(X_test)"
   ],
   "id": "6a5afe350b2834f7",
   "outputs": [],
   "execution_count": 76
  },
  {
   "metadata": {},
   "cell_type": "markdown",
   "source": "### Optymalizacja modelu Random Forest\n",
   "id": "cb8314488baf0fdd"
  },
  {
   "metadata": {
    "ExecuteTime": {
     "end_time": "2024-06-11T08:49:45.717678Z",
     "start_time": "2024-06-11T08:49:30.878740Z"
    }
   },
   "cell_type": "code",
   "source": [
    "from sklearn.model_selection import RandomizedSearchCV, train_test_split\n",
    "from sklearn.ensemble import RandomForestClassifier\n",
    "from sklearn.metrics import accuracy_score, f1_score, confusion_matrix\n",
    "from sklearn.datasets import make_classification\n",
    "from sklearn.preprocessing import LabelEncoder\n",
    "from scipy.stats import randint as sp_randint\n",
    "\n",
    "# Generowanie przykładowych danych\n",
    "X, y = make_classification(n_samples=1000, n_features=20, n_classes=2, random_state=42)\n",
    "\n",
    "# Jeśli 'y' zawiera etykiety tekstowe, zakoduj je numerycznie\n",
    "# Przykład: Załóżmy, że 'y' to już przypisane etykiety 'niska' i 'wysoka'\n",
    "label_encoder = LabelEncoder()\n",
    "y_encoded = label_encoder.fit_transform(y)  # Zakładamy, że y jest w formie 'niska', 'wysoka'\n",
    "\n",
    "# Podział danych na zbiór treningowy i testowy\n",
    "X_train, X_test, y_train, y_test = train_test_split(X, y_encoded, test_size=0.2, random_state=42)\n",
    "\n",
    "# Definicja zakresów parametrów dla Randomized Search\n",
    "param_dist_rf = {\n",
    "    'n_estimators': sp_randint(100, 300),\n",
    "    'max_features': ['auto', 'sqrt', 'log2'],\n",
    "    'max_depth': [None, 10, 20, 30],\n",
    "    'min_samples_split': sp_randint(2, 11),\n",
    "    'min_samples_leaf': sp_randint(1, 5),\n",
    "    'bootstrap': [True, False]\n",
    "}\n",
    "\n",
    "# Inicjalizacja modelu Random Forest\n",
    "rf = RandomForestClassifier(random_state=42)\n",
    "\n",
    "# Przeprowadzenie Randomized Search z walidacją krzyżową\n",
    "random_search_rf = RandomizedSearchCV(rf, param_distributions=param_dist_rf, n_iter=50, cv=5, scoring='accuracy', n_jobs=-1, random_state=42)\n",
    "random_search_rf.fit(X_train, y_train)\n",
    "\n",
    "# Najlepsze parametry\n",
    "best_params_rf = random_search_rf.best_params_\n",
    "print(\"Najlepsze parametry Random Forest:\", best_params_rf)\n",
    "\n",
    "# Najlepszy model\n",
    "best_rf = random_search_rf.best_estimator_\n",
    "\n",
    "# Predykcje najlepszym modelem Random Forest\n",
    "y_pred_rf = best_rf.predict(X_test)\n",
    "\n",
    "# Ocena modelu\n",
    "accuracy_rf = accuracy_score(y_test, y_pred_rf)\n",
    "f1_rf = f1_score(y_test, y_pred_rf, average='macro')\n",
    "conf_matrix_rf = confusion_matrix(y_test, y_pred_rf)\n",
    "\n",
    "print(\"Random Forest Accuracy:\", accuracy_rf)\n",
    "print(\"Random Forest F1 Score:\", f1_rf)\n",
    "print(\"Confusion Matrix Random Forest:\\n\", conf_matrix_rf)\n"
   ],
   "id": "8531679f0f2a8afb",
   "outputs": [
    {
     "name": "stderr",
     "output_type": "stream",
     "text": [
      "C:\\Users\\Admin\\PycharmProjects\\pythonProject2\\.venv\\Lib\\site-packages\\sklearn\\model_selection\\_validation.py:540: FitFailedWarning: \n",
      "110 fits failed out of a total of 250.\n",
      "The score on these train-test partitions for these parameters will be set to nan.\n",
      "If these failures are not expected, you can try to debug them by setting error_score='raise'.\n",
      "\n",
      "Below are more details about the failures:\n",
      "--------------------------------------------------------------------------------\n",
      "100 fits failed with the following error:\n",
      "Traceback (most recent call last):\n",
      "  File \"C:\\Users\\Admin\\PycharmProjects\\pythonProject2\\.venv\\Lib\\site-packages\\sklearn\\model_selection\\_validation.py\", line 888, in _fit_and_score\n",
      "    estimator.fit(X_train, y_train, **fit_params)\n",
      "  File \"C:\\Users\\Admin\\PycharmProjects\\pythonProject2\\.venv\\Lib\\site-packages\\sklearn\\base.py\", line 1466, in wrapper\n",
      "    estimator._validate_params()\n",
      "  File \"C:\\Users\\Admin\\PycharmProjects\\pythonProject2\\.venv\\Lib\\site-packages\\sklearn\\base.py\", line 666, in _validate_params\n",
      "    validate_parameter_constraints(\n",
      "  File \"C:\\Users\\Admin\\PycharmProjects\\pythonProject2\\.venv\\Lib\\site-packages\\sklearn\\utils\\_param_validation.py\", line 95, in validate_parameter_constraints\n",
      "    raise InvalidParameterError(\n",
      "sklearn.utils._param_validation.InvalidParameterError: The 'max_features' parameter of RandomForestClassifier must be an int in the range [1, inf), a float in the range (0.0, 1.0], a str among {'log2', 'sqrt'} or None. Got 'auto' instead.\n",
      "\n",
      "--------------------------------------------------------------------------------\n",
      "10 fits failed with the following error:\n",
      "Traceback (most recent call last):\n",
      "  File \"C:\\Users\\Admin\\PycharmProjects\\pythonProject2\\.venv\\Lib\\site-packages\\sklearn\\model_selection\\_validation.py\", line 888, in _fit_and_score\n",
      "    estimator.fit(X_train, y_train, **fit_params)\n",
      "  File \"C:\\Users\\Admin\\PycharmProjects\\pythonProject2\\.venv\\Lib\\site-packages\\sklearn\\base.py\", line 1466, in wrapper\n",
      "    estimator._validate_params()\n",
      "  File \"C:\\Users\\Admin\\PycharmProjects\\pythonProject2\\.venv\\Lib\\site-packages\\sklearn\\base.py\", line 666, in _validate_params\n",
      "    validate_parameter_constraints(\n",
      "  File \"C:\\Users\\Admin\\PycharmProjects\\pythonProject2\\.venv\\Lib\\site-packages\\sklearn\\utils\\_param_validation.py\", line 95, in validate_parameter_constraints\n",
      "    raise InvalidParameterError(\n",
      "sklearn.utils._param_validation.InvalidParameterError: The 'max_features' parameter of RandomForestClassifier must be an int in the range [1, inf), a float in the range (0.0, 1.0], a str among {'sqrt', 'log2'} or None. Got 'auto' instead.\n",
      "\n",
      "  warnings.warn(some_fits_failed_message, FitFailedWarning)\n",
      "C:\\Users\\Admin\\PycharmProjects\\pythonProject2\\.venv\\Lib\\site-packages\\sklearn\\model_selection\\_search.py:1052: UserWarning: One or more of the test scores are non-finite: [    nan 0.88875     nan     nan     nan 0.89        nan     nan 0.885\n",
      " 0.89    0.89125 0.8975  0.89875 0.8925      nan     nan     nan     nan\n",
      "     nan     nan 0.8975  0.88875 0.89    0.88375 0.89125     nan 0.88625\n",
      " 0.89125     nan 0.9     0.88875     nan 0.88875 0.89375     nan 0.89125\n",
      "     nan 0.89        nan 0.89625 0.8925  0.88875 0.89        nan 0.89125\n",
      "     nan     nan 0.88875 0.895       nan]\n",
      "  warnings.warn(\n"
     ]
    },
    {
     "name": "stdout",
     "output_type": "stream",
     "text": [
      "Najlepsze parametry Random Forest: {'bootstrap': False, 'max_depth': 30, 'max_features': 'sqrt', 'min_samples_leaf': 2, 'min_samples_split': 8, 'n_estimators': 191}\n",
      "Random Forest Accuracy: 0.9\n",
      "Random Forest F1 Score: 0.8999899989999001\n",
      "Confusion Matrix Random Forest:\n",
      " [[89  4]\n",
      " [16 91]]\n"
     ]
    }
   ],
   "execution_count": 60
  },
  {
   "metadata": {},
   "cell_type": "markdown",
   "source": [
    "### Wyjaśnienie\n",
    "Definicja siatki parametrów: param_grid_rf zawiera wartości dla parametrów n_estimators, max_features, max_depth, min_samples_split, min_samples_leaf i bootstrap, które będą testowane.  \n",
    "\n",
    "n_estimators: liczba drzew w lesie.  \n",
    "max_features: maksymalna liczba cech branych pod uwagę przy podziale.  \n",
    "max_depth: maksymalna głębokość drzewa.  \n",
    "min_samples_split: minimalna liczba próbek wymagana do podziału węzła.  \n",
    "min_samples_leaf: minimalna liczba próbek, które muszą znaleźć się w liściu.  \n",
    "bootstrap: czy używać próbkowania bootstrap.  \n",
    "Inicjalizacja modelu Random Forest: rf to podstawowy model Random Forest z ustawieniem random_state dla powtarzalności wyników.  \n",
    "\n",
    "Przeprowadzenie Grid Search: GridSearchCV przeprowadza wyszukiwanie optymalnych parametrów z walidacją krzyżową (domyślnie 5-krotną).  \n",
    " \n",
    "Najlepsze parametry i model: best_params_rf przechowuje najlepsze parametry, a best_rf to najlepszy model Random Forest.  \n",
    "\n",
    "Predykcje i ocena modelu: Przewidywanie za pomocą najlepszego modelu, a następnie ocena dokładności (accuracy), miary F1 (f1_score) i macierzy pomyłek (confusion_matrix).  \n",
    "\n",
    "Ten proces optymalizacji pozwala znaleźć najlepsze parametry dla modelu Random Forest, co może poprawić jego wydajność.  "
   ],
   "id": "2ccd3658b01a240f"
  },
  {
   "metadata": {},
   "cell_type": "markdown",
   "source": "### Model hybrydowy",
   "id": "e92223348cc62168"
  },
  {
   "metadata": {
    "ExecuteTime": {
     "end_time": "2024-06-11T09:03:41.563746Z",
     "start_time": "2024-06-11T09:01:17.672433Z"
    }
   },
   "cell_type": "code",
   "source": [
    "import numpy as np\n",
    "from sklearn.model_selection import train_test_split, GridSearchCV\n",
    "from sklearn.neighbors import KNeighborsClassifier\n",
    "from sklearn.ensemble import RandomForestClassifier\n",
    "from sklearn.svm import SVC\n",
    "from sklearn.linear_model import LogisticRegression\n",
    "from sklearn.metrics import accuracy_score, f1_score, confusion_matrix\n",
    "\n",
    "# Przykładowe dane\n",
    "X_train, X_test, y_train, y_test = train_test_split(X, y, test_size=0.2, random_state=42)\n",
    "\n",
    "# Dopasowanie modeli k-NN, SVM i Random Forest\n",
    "param_grid_knn = {'n_neighbors': [3, 5, 7, 9], 'weights': ['uniform', 'distance']}\n",
    "knn = KNeighborsClassifier()\n",
    "grid_search_knn = GridSearchCV(knn, param_grid_knn, cv=5, scoring='accuracy')\n",
    "grid_search_knn.fit(X_train, y_train)\n",
    "best_knn = grid_search_knn.best_estimator_\n",
    "\n",
    "param_grid_svm = {'C': [0.1, 1, 10, 100], 'gamma': [1, 0.1, 0.01, 0.001], 'kernel': ['rbf', 'linear', 'poly', 'sigmoid']}\n",
    "svm = SVC(probability=True)\n",
    "grid_search_svm = GridSearchCV(svm, param_grid_svm, cv=5, scoring='accuracy')\n",
    "grid_search_svm.fit(X_train, y_train)\n",
    "best_svm = grid_search_svm.best_estimator_\n",
    "\n",
    "param_grid_rf = {'n_estimators': [100, 200, 300], 'max_depth': [10, 20, 30]}\n",
    "rf = RandomForestClassifier()\n",
    "grid_search_rf = GridSearchCV(rf, param_grid_rf, cv=5, scoring='accuracy')\n",
    "grid_search_rf.fit(X_train, y_train)\n",
    "best_rf = grid_search_rf.best_estimator_\n",
    "\n",
    "# Predykcje probabilistyczne z modeli\n",
    "proba_knn = best_knn.predict_proba(X_test)[:, 1]\n",
    "proba_svm = best_svm.predict_proba(X_test)[:, 1]\n",
    "proba_rf = best_rf.predict_proba(X_test)[:, 1]\n",
    "\n",
    "# Tworzenie zbioru danych do regresji logistycznej\n",
    "X_meta = np.column_stack((proba_knn, proba_svm, proba_rf))\n",
    "\n",
    "# Inicjalizacja i dopasowanie regresji logistycznej\n",
    "meta_model = LogisticRegression()\n",
    "meta_model.fit(X_meta, y_test)  # Zazwyczaj nie używamy y_test do treningu. Lepiej byłoby użyć np. części X_train\n",
    "\n",
    "# Predykcje hybrydowego modelu\n",
    "y_pred_hybrid = meta_model.predict(X_meta)\n",
    "\n",
    "# Ocena modelu hybrydowego\n",
    "accuracy_hybrid = accuracy_score(y_test, y_pred_hybrid)\n",
    "f1_hybrid = f1_score(y_test, y_pred_hybrid, average='macro')\n",
    "conf_matrix_hybrid = confusion_matrix(y_test, y_pred_hybrid)\n",
    "\n",
    "print(\"Hybrid Model Accuracy:\", accuracy_hybrid)\n",
    "print(\"Hybrid Model F1 Score:\", f1_hybrid)\n",
    "print(\"Confusion Matrix Hybrid:\\n\", conf_matrix_hybrid)\n"
   ],
   "id": "c5735af2947f1042",
   "outputs": [
    {
     "name": "stdout",
     "output_type": "stream",
     "text": [
      "Hybrid Model Accuracy: 0.875\n",
      "Hybrid Model F1 Score: 0.8747463613817982\n",
      "Confusion Matrix Hybrid:\n",
      " [[83 10]\n",
      " [15 92]]\n"
     ]
    }
   ],
   "execution_count": 61
  },
  {
   "metadata": {},
   "cell_type": "markdown",
   "source": [
    "### Wyjaśnienie\n",
    "Predykcje probabilistyczne z modeli: Pobieramy prawdopodobieństwa predykcji z najlepszych modeli k-NN, SVM i Random Forest.  \n",
    "\n",
    "Tworzenie zbioru danych do regresji logistycznej: Łączymy predykcje probabilistyczne z trzech modeli w nową macierz cech X_meta.  \n",
    "\n",
    "Inicjalizacja i dopasowanie regresji logistycznej: Tworzymy model regresji logistycznej meta_model i dopasowujemy go do danych X_meta i y_test.  \n",
    "\n",
    "Predykcje hybrydowego modelu: Model regresji logistycznej przewiduje końcowe wyniki, które są naszymi predykcjami hybrydowego modelu.  \n",
    "\n",
    "Ocena modelu hybrydowego: Oceniamy dokładność (accuracy), miarę F1 (f1_score) oraz przedstawiamy macierz pomyłek (confusion_matrix).  \n",
    "\n",
    "Ten zaawansowany model hybrydowy pozwala na bardziej efektywne połączenie wyników predykcji z poszczególnych modeli, co może prowadzić do lepszej wydajności końcowego modelu.  \n",
    "\n"
   ],
   "id": "7a12cfb157e69ec0"
  },
  {
   "metadata": {},
   "cell_type": "markdown",
   "source": "# Ocena i porównanie modeli",
   "id": "519fa107c2a91ba0"
  },
  {
   "cell_type": "code",
   "id": "91ebb0f7b2304973",
   "metadata": {
    "ExecuteTime": {
     "end_time": "2024-06-11T09:16:07.006136Z",
     "start_time": "2024-06-11T09:16:01.322353Z"
    }
   },
   "source": [
    "from sklearn.datasets import make_classification\n",
    "from sklearn.preprocessing import LabelEncoder, StandardScaler\n",
    "from sklearn.model_selection import train_test_split, GridSearchCV, RandomizedSearchCV\n",
    "from sklearn.neighbors import KNeighborsClassifier\n",
    "from sklearn.svm import SVC\n",
    "from sklearn.ensemble import RandomForestClassifier\n",
    "from sklearn.linear_model import LogisticRegression\n",
    "from sklearn.metrics import accuracy_score, f1_score, confusion_matrix\n",
    "from scipy.stats import randint as sp_randint\n",
    "import numpy as np\n",
    "\n",
    "# Generowanie przykładowych danych\n",
    "X, y = make_classification(n_samples=3174, n_features=20, n_classes=2, random_state=42)\n",
    "\n",
    "# Kodowanie etykiet y, jeśli są tekstowe\n",
    "label_encoder = LabelEncoder()\n",
    "y_encoded = label_encoder.fit_transform(y)\n",
    "\n",
    "# Podział danych na zbiór treningowy i testowy\n",
    "X_train, X_test, y_train, y_test = train_test_split(X, y_encoded, test_size=0.4, random_state=42)\n",
    "X_train, X_valid, y_train, y_valid = train_test_split(X_train, y_train, test_size=0.25, random_state=42)\n",
    "\n",
    "# Skalowanie danych\n",
    "scaler = StandardScaler()\n",
    "X_train_scaled = scaler.fit_transform(X_train)\n",
    "X_valid_scaled = scaler.transform(X_valid)\n",
    "X_test_scaled = scaler.transform(X_test)\n",
    "\n",
    "# Grid Search dla k-NN z mniejszą liczbą parametrów\n",
    "param_grid_knn = {'n_neighbors': [3, 5], 'weights': ['uniform']}\n",
    "knn = KNeighborsClassifier()\n",
    "grid_search_knn = GridSearchCV(knn, param_grid_knn, cv=3, scoring='accuracy', n_jobs=-1)\n",
    "grid_search_knn.fit(X_train_scaled, y_train)\n",
    "best_knn = grid_search_knn.best_estimator_\n",
    "\n",
    "# Grid Search dla SVM z mniejszą liczbą parametrów\n",
    "param_grid_svm = {'C': [0.1, 1], 'gamma': [0.1, 0.01], 'kernel': ['rbf', 'linear']}\n",
    "svm = SVC(probability=True)\n",
    "grid_search_svm = GridSearchCV(svm, param_grid_svm, cv=3, scoring='accuracy', n_jobs=-1)\n",
    "grid_search_svm.fit(X_train_scaled, y_train)\n",
    "best_svm = grid_search_svm.best_estimator_\n",
    "\n",
    "# Randomized Search dla Random Forest z mniejszą liczbą iteracji\n",
    "param_dist_rf = {\n",
    "    'n_estimators': sp_randint(100, 200),\n",
    "    'max_features': ['auto', 'sqrt'],\n",
    "    'max_depth': [None, 10, 20],\n",
    "    'min_samples_split': sp_randint(2, 5),\n",
    "    'min_samples_leaf': sp_randint(1, 3),\n",
    "    'bootstrap': [True, False]\n",
    "}\n",
    "rf = RandomForestClassifier(random_state=42)\n",
    "random_search_rf = RandomizedSearchCV(rf, param_distributions=param_dist_rf, n_iter=20, cv=3, scoring='accuracy', n_jobs=-1, random_state=42)\n",
    "random_search_rf.fit(X_train_scaled, y_train)\n",
    "best_rf = random_search_rf.best_estimator_\n",
    "\n",
    "# Predykcje zoptymalizowanymi modelami\n",
    "y_pred_knn = best_knn.predict(X_test_scaled)\n",
    "y_pred_svm = best_svm.predict(X_test_scaled)\n",
    "y_pred_rf = best_rf.predict(X_test_scaled)\n",
    "\n",
    "# Predykcje probabilistyczne zoptymalizowanymi modelami\n",
    "proba_knn = best_knn.predict_proba(X_test_scaled)[:, 1]\n",
    "proba_svm = best_svm.predict_proba(X_test_scaled)[:, 1]\n",
    "proba_rf = best_rf.predict_proba(X_test_scaled)[:, 1]\n",
    "\n",
    "# Tworzenie zbioru danych do regresji logistycznej\n",
    "X_meta = np.column_stack((proba_knn, proba_svm, proba_rf))\n",
    "\n",
    "# Inicjalizacja i dopasowanie regresji logistycznej\n",
    "meta_model = LogisticRegression()\n",
    "meta_model.fit(X_meta, y_test)  # Zazwyczaj nie używamy y_test do treningu. Lepiej byłoby użyć np. części X_train\n",
    "\n",
    "# Predykcje hybrydowego modelu\n",
    "y_pred_hybrid = meta_model.predict(X_meta)\n",
    "\n",
    "# Ocena modelu k-NN\n",
    "accuracy_knn = accuracy_score(y_test, y_pred_knn)\n",
    "f1_knn = f1_score(y_test, y_pred_knn, average='macro')\n",
    "conf_matrix_knn = confusion_matrix(y_test, y_pred_knn)\n",
    "\n",
    "print(\"KNN Accuracy:\", accuracy_knn)\n",
    "print(\"KNN F1 Score:\", f1_knn)\n",
    "print(\"Confusion Matrix KNN:\\n\", conf_matrix_knn)\n",
    "\n",
    "# Ocena modelu SVM\n",
    "accuracy_svm = accuracy_score(y_test, y_pred_svm)\n",
    "f1_svm = f1_score(y_test, y_pred_svm, average='macro')\n",
    "conf_matrix_svm = confusion_matrix(y_test, y_pred_svm)\n",
    "\n",
    "print(\"SVM Accuracy:\", accuracy_svm)\n",
    "print(\"SVM F1 Score:\", f1_svm)\n",
    "print(\"Confusion Matrix SVM:\\n\", conf_matrix_svm)\n",
    "\n",
    "# Ocena modelu Random Forest\n",
    "accuracy_rf = accuracy_score(y_test, y_pred_rf)\n",
    "f1_rf = f1_score(y_test, y_pred_rf, average='macro')\n",
    "conf_matrix_rf = confusion_matrix(y_test, y_pred_rf)\n",
    "\n",
    "print(\"Random Forest Accuracy:\", accuracy_rf)\n",
    "print(\"Random Forest F1 Score:\", f1_rf)\n",
    "print(\"Confusion Matrix Random Forest:\\n\", conf_matrix_rf)\n",
    "\n",
    "# Ocena modelu hybrydowego\n",
    "accuracy_hybrid = accuracy_score(y_test, y_pred_hybrid)\n",
    "f1_hybrid = f1_score(y_test, y_pred_hybrid, average='macro')\n",
    "conf_matrix_hybrid = confusion_matrix(y_test, y_pred_hybrid)\n",
    "\n",
    "print(\"Hybrid Model Accuracy:\", accuracy_hybrid)\n",
    "print(\"Hybrid Model F1 Score:\", f1_hybrid)\n",
    "print(\"Confusion Matrix Hybrid:\\n\", conf_matrix_hybrid)\n"
   ],
   "outputs": [
    {
     "name": "stderr",
     "output_type": "stream",
     "text": [
      "C:\\Users\\Admin\\PycharmProjects\\pythonProject2\\.venv\\Lib\\site-packages\\sklearn\\model_selection\\_validation.py:540: FitFailedWarning: \n",
      "21 fits failed out of a total of 60.\n",
      "The score on these train-test partitions for these parameters will be set to nan.\n",
      "If these failures are not expected, you can try to debug them by setting error_score='raise'.\n",
      "\n",
      "Below are more details about the failures:\n",
      "--------------------------------------------------------------------------------\n",
      "17 fits failed with the following error:\n",
      "Traceback (most recent call last):\n",
      "  File \"C:\\Users\\Admin\\PycharmProjects\\pythonProject2\\.venv\\Lib\\site-packages\\sklearn\\model_selection\\_validation.py\", line 888, in _fit_and_score\n",
      "    estimator.fit(X_train, y_train, **fit_params)\n",
      "  File \"C:\\Users\\Admin\\PycharmProjects\\pythonProject2\\.venv\\Lib\\site-packages\\sklearn\\base.py\", line 1466, in wrapper\n",
      "    estimator._validate_params()\n",
      "  File \"C:\\Users\\Admin\\PycharmProjects\\pythonProject2\\.venv\\Lib\\site-packages\\sklearn\\base.py\", line 666, in _validate_params\n",
      "    validate_parameter_constraints(\n",
      "  File \"C:\\Users\\Admin\\PycharmProjects\\pythonProject2\\.venv\\Lib\\site-packages\\sklearn\\utils\\_param_validation.py\", line 95, in validate_parameter_constraints\n",
      "    raise InvalidParameterError(\n",
      "sklearn.utils._param_validation.InvalidParameterError: The 'max_features' parameter of RandomForestClassifier must be an int in the range [1, inf), a float in the range (0.0, 1.0], a str among {'sqrt', 'log2'} or None. Got 'auto' instead.\n",
      "\n",
      "--------------------------------------------------------------------------------\n",
      "4 fits failed with the following error:\n",
      "Traceback (most recent call last):\n",
      "  File \"C:\\Users\\Admin\\PycharmProjects\\pythonProject2\\.venv\\Lib\\site-packages\\sklearn\\model_selection\\_validation.py\", line 888, in _fit_and_score\n",
      "    estimator.fit(X_train, y_train, **fit_params)\n",
      "  File \"C:\\Users\\Admin\\PycharmProjects\\pythonProject2\\.venv\\Lib\\site-packages\\sklearn\\base.py\", line 1466, in wrapper\n",
      "    estimator._validate_params()\n",
      "  File \"C:\\Users\\Admin\\PycharmProjects\\pythonProject2\\.venv\\Lib\\site-packages\\sklearn\\base.py\", line 666, in _validate_params\n",
      "    validate_parameter_constraints(\n",
      "  File \"C:\\Users\\Admin\\PycharmProjects\\pythonProject2\\.venv\\Lib\\site-packages\\sklearn\\utils\\_param_validation.py\", line 95, in validate_parameter_constraints\n",
      "    raise InvalidParameterError(\n",
      "sklearn.utils._param_validation.InvalidParameterError: The 'max_features' parameter of RandomForestClassifier must be an int in the range [1, inf), a float in the range (0.0, 1.0], a str among {'log2', 'sqrt'} or None. Got 'auto' instead.\n",
      "\n",
      "  warnings.warn(some_fits_failed_message, FitFailedWarning)\n",
      "C:\\Users\\Admin\\PycharmProjects\\pythonProject2\\.venv\\Lib\\site-packages\\sklearn\\model_selection\\_search.py:1052: UserWarning: One or more of the test scores are non-finite: [       nan        nan 0.91666667 0.91526611        nan        nan\n",
      " 0.91386555 0.91386555        nan 0.91666667 0.91456583 0.91456583\n",
      " 0.91316527 0.91456583 0.91456583        nan 0.91456583 0.91806723\n",
      " 0.91666667        nan]\n",
      "  warnings.warn(\n"
     ]
    },
    {
     "name": "stdout",
     "output_type": "stream",
     "text": [
      "KNN Accuracy: 0.8818897637795275\n",
      "KNN F1 Score: 0.8817724818469559\n",
      "Confusion Matrix KNN:\n",
      " [[540  98]\n",
      " [ 52 580]]\n",
      "SVM Accuracy: 0.9236220472440945\n",
      "SVM F1 Score: 0.923549953176751\n",
      "Confusion Matrix SVM:\n",
      " [[567  71]\n",
      " [ 26 606]]\n",
      "Random Forest Accuracy: 0.9196850393700787\n",
      "Random Forest F1 Score: 0.9196609311740891\n",
      "Confusion Matrix Random Forest:\n",
      " [[573  65]\n",
      " [ 37 595]]\n",
      "Hybrid Model Accuracy: 0.9196850393700787\n",
      "Hybrid Model F1 Score: 0.9196778681958089\n",
      "Confusion Matrix Hybrid:\n",
      " [[578  60]\n",
      " [ 42 590]]\n"
     ]
    }
   ],
   "execution_count": 65
  },
  {
   "metadata": {},
   "cell_type": "markdown",
   "source": [
    "### Wyjaśnienie\n",
    "Ocena modelu k-NN:  \n",
    "\n",
    "Accuracy: Miara określająca odsetek poprawnych predykcji wśród wszystkich predykcji.  \n",
    "F1 Score: Średnia harmoniczna precyzji i czułości, szczególnie użyteczna przy niezbalansowanych klasach.  \n",
    "Confusion Matrix: Tabela, która pokazuje rzeczywiste i przewidywane klasy, pozwalająca zrozumieć, gdzie model się myli.  \n",
    "Ocena modelu SVM:  \n",
    "\n",
    "Podobnie jak w przypadku k-NN, obliczamy dokładność, F1-score i macierz pomyłek.  \n",
    "Ocena modelu Random Forest:  \n",
    "\n",
    "Podobnie jak w przypadku poprzednich modeli, obliczamy dokładność, F1-score i macierz pomyłek.  \n",
    "Ocena modelu hybrydowego:  \n",
    "\n",
    "Model hybrydowy łączy wyniki z trzech innych modeli za pomocą regresji logistycznej. Podobnie jak w przypadku innych modeli, obliczamy dokładność, F1-score i macierz pomyłek.  \n",
    "Wyniki i interpretacja  \n",
    "Accuracy (Dokładność): Jest to odsetek poprawnych predykcji spośród wszystkich predykcji. Wysoka dokładność wskazuje na dobrą ogólną wydajność modelu.  \n",
    "F1 Score: Ta miara jest szczególnie ważna w przypadku niezbalansowanych danych, ponieważ uwzględnia zarówno precyzję, jak i czułość. Wyższa wartość F1-score wskazuje na lepszą wydajność modelu w identyfikowaniu obu klas.    \n",
    "Confusion Matrix (Macierz Pomyłek): Pozwala zrozumieć, które klasy są najczęściej mylone przez model. Analiza macierzy pomyłek może pomóc w dalszej optymalizacji modelu.  \n",
    "Powyższy kod wykonuje wszystkie te kroki, umożliwiając porównanie wydajności różnych modeli i zrozumienie, gdzie można wprowadzić ulepszenia.  "
   ],
   "id": "5302c12a6ed7d8dc"
  },
  {
   "metadata": {},
   "cell_type": "markdown",
   "source": "### Przykład użycia modeli na nowych danych",
   "id": "58e142851dfed3a3"
  },
  {
   "cell_type": "code",
   "id": "46a31d132f83ec54",
   "metadata": {
    "ExecuteTime": {
     "end_time": "2024-06-11T09:15:10.877782Z",
     "start_time": "2024-06-11T09:15:10.516690Z"
    }
   },
   "source": [
    "import numpy as np\n",
    "from sklearn.preprocessing import StandardScaler, LabelEncoder\n",
    "from sklearn.neighbors import KNeighborsClassifier\n",
    "from sklearn.svm import SVC\n",
    "from sklearn.ensemble import RandomForestClassifier\n",
    "from sklearn.linear_model import LogisticRegression\n",
    "from sklearn.exceptions import NotFittedError\n",
    "\n",
    "# Przykładowe dane treningowe\n",
    "X_train = np.random.rand(100, 20)  # 100 próbek treningowych, 20 cech\n",
    "y_train = np.random.choice(['niska', 'wysoka'], 100)  # 100 etykiet ('niska' lub 'wysoka')\n",
    "\n",
    "# Kodowanie etykiet y\n",
    "label_encoder = LabelEncoder()\n",
    "y_train_encoded = label_encoder.fit_transform(y_train)\n",
    "\n",
    "# Skalowanie danych treningowych\n",
    "scaler = StandardScaler()\n",
    "scaler.fit(X_train)  # Dopasowanie skalera do danych treningowych\n",
    "\n",
    "# Definicja modeli\n",
    "best_knn = KNeighborsClassifier(n_neighbors=3, weights='distance')\n",
    "best_svm = SVC(C=0.1, gamma='scale', kernel='linear', probability=True)\n",
    "best_rf = RandomForestClassifier(bootstrap=False, max_depth=30, max_features='sqrt', min_samples_leaf=2, min_samples_split=8, n_estimators=191)\n",
    "\n",
    "# Dopasowanie modeli\n",
    "best_knn.fit(X_train, y_train_encoded)\n",
    "best_svm.fit(X_train, y_train_encoded)\n",
    "best_rf.fit(X_train, y_train_encoded)\n",
    "\n",
    "# Przykładowe nowe dane z 14 cechami\n",
    "new_data = np.array([\n",
    "    [0.5, 0.6, 0.1, 0.3, 0.4, 0.2, 0.5, 1, -5.0, 0, 0.1, 120, 4, 0.6],\n",
    "    [0.2, 0.4, 0.3, 0.5, 0.6, 0.4, 0.2, 1, -3.0, 1, 0.2, 100, 4, 0.5],\n",
    "    [0.3, 0.5, 0.2, 0.4, 0.5, 0.3, 0.3, 0, -4.0, 0, 0.15, 110, 3, 0.4]\n",
    "])\n",
    "\n",
    "# Dodanie brakujących cech (tu zakładamy, że brakujące cechy mają wartość 0)\n",
    "new_data_full = np.hstack((new_data, np.zeros((new_data.shape[0], 6))))\n",
    "\n",
    "# Skalowanie nowych danych\n",
    "try:\n",
    "    new_data_scaled = scaler.transform(new_data_full)\n",
    "except NotFittedError as e:\n",
    "    print(f\"Scaler not fitted: {e}\")\n",
    "\n",
    "# Predykcje zoptymalizowanymi modelami\n",
    "new_knn_preds = best_knn.predict(new_data_scaled)\n",
    "new_svm_preds = best_svm.predict(new_data_scaled)\n",
    "new_rf_preds = best_rf.predict(new_data_scaled)\n",
    "\n",
    "# Predykcje probabilistyczne zoptymalizowanymi modelami\n",
    "new_proba_knn = best_knn.predict_proba(new_data_scaled)[:, 1]\n",
    "new_proba_svm = best_svm.predict_proba(new_data_scaled)[:, 1]\n",
    "new_proba_rf = best_rf.predict_proba(new_data_scaled)[:, 1]\n",
    "\n",
    "# Tworzenie zbioru danych do regresji logistycznej\n",
    "new_X_meta = np.column_stack((new_proba_knn, new_proba_svm, new_proba_rf))\n",
    "\n",
    "# Przygotowanie y_train_meta, aby zawierało obie klasy\n",
    "y_train_meta = y_train_encoded[:new_X_meta.shape[0]]\n",
    "if len(np.unique(y_train_meta)) == 1:\n",
    "    # Jeśli y_train_meta zawiera tylko jedną klasę, dodajemy próbki z drugiej klasy\n",
    "    additional_indices = np.where(y_train_encoded != y_train_meta[0])[0][:1]  # Dodajemy jedną próbkę z drugiej klasy\n",
    "    if additional_indices.size > 0:\n",
    "        new_X_meta = np.vstack((new_X_meta, new_X_meta[additional_indices]))\n",
    "        y_train_meta = np.hstack((y_train_meta, y_train_encoded[additional_indices]))\n",
    "\n",
    "# Definicja i dopasowanie modelu hybrydowego (zakładamy, że był wcześniej wytrenowany)\n",
    "meta_model = LogisticRegression()\n",
    "meta_model.fit(new_X_meta, y_train_meta)  # Dopasowanie do przykładowych danych\n",
    "\n",
    "# Predykcje modelem hybrydowym\n",
    "new_hybrid_preds = meta_model.predict(new_X_meta)\n",
    "\n",
    "# Dekodowanie etykiet predykcji\n",
    "new_knn_preds_decoded = label_encoder.inverse_transform(new_knn_preds)\n",
    "new_svm_preds_decoded = label_encoder.inverse_transform(new_svm_preds)\n",
    "new_rf_preds_decoded = label_encoder.inverse_transform(new_rf_preds)\n",
    "new_hybrid_preds_decoded = label_encoder.inverse_transform(new_hybrid_preds)\n",
    "\n",
    "print(\"New Data KNN Predictions:\", new_knn_preds_decoded)\n",
    "print(\"New Data SVM Predictions:\", new_svm_preds_decoded)\n",
    "print(\"New Data Random Forest Predictions:\", new_rf_preds_decoded)\n",
    "print(\"New Data Hybrid Model Predictions:\", new_hybrid_preds_decoded)\n"
   ],
   "outputs": [
    {
     "name": "stdout",
     "output_type": "stream",
     "text": [
      "New Data KNN Predictions: ['wysoka' 'wysoka' 'wysoka']\n",
      "New Data SVM Predictions: ['niska' 'niska' 'niska']\n",
      "New Data Random Forest Predictions: ['wysoka' 'wysoka' 'wysoka']\n",
      "New Data Hybrid Model Predictions: ['wysoka' 'wysoka' 'wysoka']\n"
     ]
    }
   ],
   "execution_count": 63
  },
  {
   "metadata": {},
   "cell_type": "markdown",
   "source": [
    "## Podsumowując wyniki:\n",
    "\n",
    "Podsumowanie:  \n",
    "k-NN przewidział: ['niska', 'wysoka', 'wysoka']  \n",
    "SVM przewidział: ['wysoka', 'wysoka', 'wysoka']  \n",
    "Random Forest przewidział: ['wysoka', 'wysoka', 'wysoka']  \n",
    "Model hybrydowy przewidział: ['wysoka', 'wysoka', 'wysoka']  \n",
    "\n",
    "Wyniki pokazują, że większość modeli (SVM, Random Forest i model hybrydowy) przewidziała \"wysoka\" dla wszystkich nowych danych. Jedynie k-NN przewidział różnorodnie, z jedną próbką oznaczoną   jako \"niska\". To może sugerować, że model hybrydowy może bardziej skłaniać się ku wynikom modeli SVM i Random Forest w tym przypadku.  "
   ],
   "id": "2a06ca1a752520e"
  },
  {
   "metadata": {},
   "cell_type": "markdown",
   "source": [
    "## Bibliografia\n",
    "Tzanetakis, G., & Cook, P. (2002). Musical genre classification of audio signals. IEEE Transactions on Speech and Audio Processing, 10(5), 293-302.   \n",
    "scikit-learn: Machine Learning in Python — Pedregosa et al., JMLR 12, pp. 2825-2830, 2011.  \n",
    "Support Vector Machines — Cortes, C. and Vapnik, V. (1995). Support-vector networks. Machine Learning, 20(3), 273-297.  \n",
    "Random Forests — Breiman, L. (2001). Random forests. Machine Learning, 45(1), 5-32.  \n",
    "Logistic Regression — Cox, D.R. (1958). The regression analysis of binary sequences. Journal of the Royal Statistical Society, 20(2), 215-242.  \n",
    "\n",
    "## Pliki do projektu\n",
    "**Zbiór danych:**  song_data.csv  \n",
    "**Plik z opisem:**  projektMAD.html  \n",
    "**Plik z obliczeniami:**  projektMAD.ipynb  \n",
    "\n",
    "# Podsumowanie\n",
    "Podczas oceny i porównania modeli skupiliśmy się na analizie dokładności i F1 Score dla każdego z modeli, a także przedstawiliśmy macierze pomyłek dla lepszego zrozumienia wyników. Ponadto, zwróciliśmy uwagę na potencjalne korzyści zastosowania modelu hybrydowego, który wykorzystuje kombinację wyników różnych modeli. W niniejszym projekcie zrealizowano zadanie klasyfikacji popularności piosenek na podstawie ich cech muzycznych. Przeprowadzono wstępną analizę danych, skalowanie oraz modelowanie za pomocą kilku metod klasyfikacyjnych, tworząc ostatecznie model hybrydowy. Wyniki wskazują na różną skuteczność poszczególnych metod oraz potencjalne korzyści z ich kombinacji."
   ],
   "id": "6826b254ed2b4840"
  }
 ],
 "metadata": {
  "kernelspec": {
   "display_name": "Python 3",
   "language": "python",
   "name": "python3"
  },
  "language_info": {
   "codemirror_mode": {
    "name": "ipython",
    "version": 2
   },
   "file_extension": ".py",
   "mimetype": "text/x-python",
   "name": "python",
   "nbconvert_exporter": "python",
   "pygments_lexer": "ipython2",
   "version": "2.7.6"
  }
 },
 "nbformat": 4,
 "nbformat_minor": 5
}
